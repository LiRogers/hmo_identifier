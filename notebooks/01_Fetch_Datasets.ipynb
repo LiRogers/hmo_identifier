{
 "cells": [
  {
   "cell_type": "code",
   "execution_count": null,
   "metadata": {},
   "outputs": [],
   "source": [
    "import os"
   ]
  },
  {
   "cell_type": "code",
   "execution_count": null,
   "metadata": {},
   "outputs": [],
   "source": [
    "os.chdir(\"..\")"
   ]
  },
  {
   "cell_type": "code",
   "execution_count": null,
   "metadata": {},
   "outputs": [],
   "source": [
    "%run -i \"hmo_identifier/data/reference.py\" \"Camden\"\n",
    "%run -i \"hmo_identifier/data/open.py\" \"Camden\"\n",
    "%run -i \"hmo_identifier/data/local.py\" \"Camden\"\n",
    "%run -i \"hmo_identifier/data/gla.py\" \"Camden\""
   ]
  }
 ],
 "metadata": {
  "kernelspec": {
   "display_name": "Python [conda env:.conda-hmo_identifier] *",
   "language": "python",
   "name": "conda-env-.conda-hmo_identifier-py"
  },
  "language_info": {
   "codemirror_mode": {
    "name": "ipython",
    "version": 3
   },
   "file_extension": ".py",
   "mimetype": "text/x-python",
   "name": "python",
   "nbconvert_exporter": "python",
   "pygments_lexer": "ipython3",
   "version": "3.7.6"
  }
 },
 "nbformat": 4,
 "nbformat_minor": 4
}
