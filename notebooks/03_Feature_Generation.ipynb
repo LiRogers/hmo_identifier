{
 "cells": [
  {
   "cell_type": "markdown",
   "metadata": {},
   "source": [
    "## Generating features"
   ]
  },
  {
   "cell_type": "code",
   "execution_count": null,
   "metadata": {},
   "outputs": [],
   "source": [
    "import pandas as pd\n",
    "import matplotlib.pyplot as plt\n",
    "from datetime import datetime\n",
    "import geopandas as gpd"
   ]
  },
  {
   "cell_type": "code",
   "execution_count": null,
   "metadata": {},
   "outputs": [],
   "source": [
    "df = pd.read_csv(\"../data/interim/gazatteer_combined.csv\")"
   ]
  },
  {
   "cell_type": "code",
   "execution_count": null,
   "metadata": {},
   "outputs": [],
   "source": [
    "df.columns"
   ]
  },
  {
   "cell_type": "code",
   "execution_count": null,
   "metadata": {},
   "outputs": [],
   "source": [
    "df = gpd.GeoDataFrame(df,\n",
    "                       geometry=gpd.points_from_xy(df.x_coordinate,\n",
    "                                                   df.y_coordinate))"
   ]
  },
  {
   "cell_type": "markdown",
   "metadata": {},
   "source": [
    "We want to generate features relating to these factors:\n",
    "* Property structure\n",
    "* Property tenure\n",
    "* Number of residents\n",
    "* Turnover of residents\n",
    "* Evidence of a negligent landlord\n",
    "* Evidence of housing pressure"
   ]
  },
  {
   "cell_type": "markdown",
   "metadata": {},
   "source": [
    "## Property Tenure"
   ]
  },
  {
   "cell_type": "code",
   "execution_count": null,
   "metadata": {},
   "outputs": [],
   "source": [
    "df[['date_lr', 'lodgement_date_epc', 'transaction_type_epc', 'social_housing']].head(20)"
   ]
  },
  {
   "cell_type": "code",
   "execution_count": null,
   "metadata": {},
   "outputs": [],
   "source": [
    "df = df.assign(date_lr = pd.to_datetime(df.date_lr),\n",
    "              lodgement_date_epc = pd.to_datetime(df.lodgement_date_epc))"
   ]
  },
  {
   "cell_type": "code",
   "execution_count": null,
   "metadata": {},
   "outputs": [],
   "source": [
    "df['tenure'] = 'Unknown'\n",
    "df.loc[((df.lodgement_date_epc > df.date_lr) |\n",
    "        ((pd.isna(df.date_lr)) & (~pd.isna(df.lodgement_date_epc))))\n",
    "       & (df.transaction_type_epc.str.contains(\"rental|sale\")), 'tenure'] = (\n",
    "    df.loc[((df.lodgement_date_epc > df.date_lr) |\n",
    "        ((pd.isna(df.date_lr)) & (~pd.isna(df.lodgement_date_epc))))\n",
    "       & (df.transaction_type_epc.str.contains(\"rental|sale\")), 'transaction_type_epc'])\n",
    "df.loc[((df.lodgement_date_epc < df.date_lr) |\n",
    "        ((~pd.isna(df.date_lr)) & (pd.isna(df.lodgement_date_epc)))), 'tenure'] = \"sale\"\n",
    "df.loc[(df.social_housing) & (df.tenure == \"Unknown\"), 'tenure'] = 'Social Rent'"
   ]
  },
  {
   "cell_type": "code",
   "execution_count": null,
   "metadata": {},
   "outputs": [],
   "source": [
    "df[['date_lr', 'lodgement_date_epc', 'transaction_type_epc', 'social_housing', 'tenure']].head(20)"
   ]
  },
  {
   "cell_type": "code",
   "execution_count": null,
   "metadata": {},
   "outputs": [],
   "source": [
    "df.tenure = (df.tenure\n",
    "             .replace(\"rental\", \"Private Rent\")\n",
    "             .replace(\"rental (private)\", \"Private Rent\")\n",
    "             .str.replace('rental.*social.*', \"Social Rent\")\n",
    "             .str.replace(\".*sale.*\", \"Owner Occupied\"))"
   ]
  },
  {
   "cell_type": "code",
   "execution_count": null,
   "metadata": {},
   "outputs": [],
   "source": [
    "df[['date_lr', 'lodgement_date_epc', 'transaction_type_epc', 'social_housing', 'tenure']].head(20)"
   ]
  },
  {
   "cell_type": "markdown",
   "metadata": {},
   "source": [
    "Other borough held data to help determine tenure could include:\n",
    "* Tenancy Deposit data\n",
    "* Further social housing data\n",
    "* Right to buy data"
   ]
  },
  {
   "cell_type": "markdown",
   "metadata": {},
   "source": [
    "## Property Structure\n",
    "* Size\n",
    "* Age\n",
    "* Type\n",
    "\n"
   ]
  },
  {
   "cell_type": "code",
   "execution_count": null,
   "metadata": {},
   "outputs": [],
   "source": [
    "df.columns[df.columns.str.endswith(\"ukb\")]"
   ]
  },
  {
   "cell_type": "code",
   "execution_count": null,
   "metadata": {},
   "outputs": [],
   "source": [
    "df[['dwelling_type_text_ukb', 'property_type_epc', 'built_form_epc', 'tertiary_desc']]"
   ]
  },
  {
   "cell_type": "code",
   "execution_count": null,
   "metadata": {},
   "outputs": [],
   "source": [
    "df['building_type'] = 'Unknown'\n",
    "df.loc[(~pd.isna(df.built_form_epc)) & (df.built_form_epc != \"NO DATA!\"), 'building_type'] = df.loc[(~pd.isna(df.built_form_epc)) & (df.built_form_epc != \"NO DATA!\"), 'built_form_epc'] \n",
    "df.loc[(~pd.isna(df.dwelling_type_text_ukb)) & (df.building_type == \"Unknown\"), 'building_type'] = df.loc[(~pd.isna(df.dwelling_type_text_ukb)) & (df.building_type == \"Unknown\"), 'dwelling_type_text_ukb']\n",
    "df.loc[(df.building_type == \"Unknown\"), 'building_type'] = df.loc[(df.building_type == \"Unknown\"), 'tertiary_desc']\n",
    "\n",
    "df.building_type.value_counts()"
   ]
  },
  {
   "cell_type": "code",
   "execution_count": null,
   "metadata": {},
   "outputs": [],
   "source": [
    "df.building_type = (df.building_type\n",
    "                    .str.lower()\n",
    "                    .str.replace(\".*flat.*\", \"flat\", case=False)\n",
    "                    .str.replace(\".*terrace.*\", \"terrace\", case=False))\n",
    "\n",
    "df.loc[~df.building_type.isin(['terrace', 'flat', 'semi-detached', 'detached']), 'building_type'] = 'other'\n",
    "df.building_type.value_counts()"
   ]
  },
  {
   "cell_type": "code",
   "execution_count": null,
   "metadata": {},
   "outputs": [],
   "source": [
    "df.loc[(df.property_type_epc.isin(['Flat', 'Maisonette'])) | (df.building_type == \"flat\") | (df.dwelling_type_text_ukb.str.contains(\"flat\", case=False)), 'flat'] = True\n",
    "df.flat = df.flat.fillna(False)\n",
    "pd.crosstab(df.building_type, df.flat)"
   ]
  },
  {
   "cell_type": "code",
   "execution_count": null,
   "metadata": {},
   "outputs": [],
   "source": [
    "df = df.assign(ukb_rooms = df.bedroom_number_ukb + df.wet_room_number_ukb + df.reception_number_ukb)"
   ]
  },
  {
   "cell_type": "code",
   "execution_count": null,
   "metadata": {},
   "outputs": [],
   "source": [
    "pd.crosstab(df.ukb_rooms, df.number_habitable_rooms_epc)"
   ]
  },
  {
   "cell_type": "code",
   "execution_count": null,
   "metadata": {},
   "outputs": [],
   "source": [
    "df = df.assign(bedrooms = df.bedroom_number_ukb,\n",
    "              rooms = df.ukb_rooms)"
   ]
  },
  {
   "cell_type": "code",
   "execution_count": null,
   "metadata": {},
   "outputs": [],
   "source": [
    "df[['building__age_text_ukb', 'new_build_lr', 'date_lr', 'construction_age_band_epc']]"
   ]
  },
  {
   "cell_type": "code",
   "execution_count": null,
   "metadata": {},
   "outputs": [],
   "source": [
    "df.building__age_text_ukb.unique()"
   ]
  },
  {
   "cell_type": "code",
   "execution_count": null,
   "metadata": {},
   "outputs": [],
   "source": [
    "df = df.assign(ukb_min = pd.to_numeric(df.building__age_text_ukb.str.extract(\" ([0-9]{4})\")[0]),\n",
    "              ukb_max = pd.to_numeric(df.building__age_text_ukb.str.extract(\"-([0-9]{4})\")[0]))\n",
    "df.loc[pd.isna(df.ukb_max) & (~pd.isna(df.ukb_min)), 'ukb_max'] = datetime.today().year\n",
    "df[['building__age_text_ukb', 'ukb_min', 'ukb_max']].drop_duplicates()"
   ]
  },
  {
   "cell_type": "code",
   "execution_count": null,
   "metadata": {},
   "outputs": [],
   "source": [
    "df.construction_age_band_epc.unique()"
   ]
  },
  {
   "cell_type": "code",
   "execution_count": null,
   "metadata": {},
   "outputs": [],
   "source": [
    "df = df.assign(epc_min = pd.to_numeric(df.construction_age_band_epc.str.extract(\" ([0-9]{4})\")[0]),\n",
    "              epc_max = pd.to_numeric(df.construction_age_band_epc.str.extract(\"-([0-9]{4})\")[0]))\n",
    "df.loc[(df.epc_min == 1900) & (pd.isna(df.epc_max)), ['epc_min', 'epc_max']] = [1800, 1900]\n",
    "df.loc[(df.epc_min == 2007) & (pd.isna(df.epc_max)), 'epc_max'] = datetime.today().year\n",
    "df[['construction_age_band_epc', 'epc_min', 'epc_max']].drop_duplicates()"
   ]
  },
  {
   "cell_type": "code",
   "execution_count": null,
   "metadata": {},
   "outputs": [],
   "source": [
    "df = df.assign(lr_min = df.date_lr.dt.year,\n",
    "              lr_max = df.date_lr.dt.year)\n",
    "df[['date_lr', 'lr_min', 'lr_max']].drop_duplicates().head()\n",
    "df.loc[df.new_build_lr != \"Y\", ['lr_min', 'lr_max']] = [pd.np.NAN, pd.np.NAN]"
   ]
  },
  {
   "cell_type": "code",
   "execution_count": null,
   "metadata": {},
   "outputs": [],
   "source": [
    "df['build_age_min'] = df[['epc_min', 'lr_min', 'ukb_min']].max(axis = 1)\n",
    "df['build_age_max'] = df[['epc_max', 'lr_max', 'ukb_max']].min(axis = 1)\n",
    "#df.plot(x='build_age_min', y='build_age_max', kind='scatter')"
   ]
  },
  {
   "cell_type": "code",
   "execution_count": null,
   "metadata": {},
   "outputs": [],
   "source": [
    "df[['build_age_min', 'build_age_max']].plot(x='build_age_min', y='build_age_max', kind='scatter')"
   ]
  },
  {
   "cell_type": "code",
   "execution_count": null,
   "metadata": {},
   "outputs": [],
   "source": [
    "df[['build_age_min', 'build_age_max']]"
   ]
  },
  {
   "cell_type": "code",
   "execution_count": null,
   "metadata": {},
   "outputs": [],
   "source": [
    "df.loc[(df.build_age_min > df.build_age_max), ['build_age_min', 'build_age_max']] = [pd.np.NAN, pd.np.NAN]\n",
    "for ds in ['lr', 'ukb', 'epc']:\n",
    "    for tp in ['min', 'max']:\n",
    "        df[f'build_age_{tp}'] = df[f'build_age_{tp}'].combine_first(df[f'{ds}_{tp}'])\n",
    "df['build_age'] = df[['build_age_min', 'build_age_max']].mean(axis=1)"
   ]
  },
  {
   "cell_type": "code",
   "execution_count": null,
   "metadata": {},
   "outputs": [],
   "source": [
    "f, ax = plt.subplots(1)\n",
    "ax = df.plot(ax=ax, markersize=0.25, column='build_age')\n",
    "ax.set_axis_off()\n",
    "plt.show()"
   ]
  },
  {
   "cell_type": "code",
   "execution_count": null,
   "metadata": {},
   "outputs": [],
   "source": [
    "df[['build_age']].plot(y='build_age', kind='hist')"
   ]
  },
  {
   "cell_type": "markdown",
   "metadata": {},
   "source": [
    "## Number of tenants"
   ]
  },
  {
   "cell_type": "code",
   "execution_count": null,
   "metadata": {},
   "outputs": [],
   "source": [
    "census_cols = df.columns[df.columns.str.endswith(\"_census\") & ~df.columns.str.startswith(\"merge_\")]"
   ]
  },
  {
   "cell_type": "code",
   "execution_count": null,
   "metadata": {},
   "outputs": [],
   "source": [
    "(census_cols[census_cols.str.startswith(\"household_composition\")]\n",
    " .str.replace(\"household_composition_\", \"\")\n",
    " .str.replace(\"_census\", \"\")\n",
    " .str.replace(\"_measures_value\", \"\"))"
   ]
  },
  {
   "cell_type": "code",
   "execution_count": null,
   "metadata": {},
   "outputs": [],
   "source": [
    "df['other_households_3bed_plus'] = df[df.columns[df.columns.str.startswith(\"household_composition\") & df.columns.str.contains(\"other_household\") & df.columns.str.contains(\"3|4\")]].sum(axis=1)"
   ]
  },
  {
   "cell_type": "code",
   "execution_count": null,
   "metadata": {},
   "outputs": [],
   "source": [
    "f, ax = plt.subplots(1)\n",
    "ax = df.plot(ax=ax, markersize=0.25, column='other_households_3bed_plus')\n",
    "ax.set_axis_off()\n",
    "plt.show()"
   ]
  },
  {
   "cell_type": "markdown",
   "metadata": {},
   "source": [
    "## Neglectful Landlord"
   ]
  },
  {
   "cell_type": "code",
   "execution_count": null,
   "metadata": {},
   "outputs": [],
   "source": [
    "df.loc[(df.energy_consumption_potential_epc <= 0) |(df.energy_consumption_current_epc <= 0),\n",
    "       ['energy_consumption_current_epc', 'energy_consumption_potential_epc']] = [pd.np.NAN, pd.np.NAN]\n",
    "\n",
    "df = df.assign(energy_eff_def = df.energy_consumption_current_epc / df.energy_consumption_potential_epc)"
   ]
  },
  {
   "cell_type": "markdown",
   "metadata": {},
   "source": [
    "## Housing Pressure\n",
    "\n",
    "* Crime\n",
    "* Airbnb\n",
    "* IMD"
   ]
  },
  {
   "cell_type": "code",
   "execution_count": null,
   "metadata": {},
   "outputs": [],
   "source": [
    "df = df[['uprn', 'geo_address', 'postcode', 'tenure', 'social_housing', 'building_type', 'flat', 'bedrooms', 'rooms',\n",
    "        'build_age', 'other_households_3bed_plus', 'energy_eff_def', 'asb_sum_crime', 'price_pp_median_abnb',\n",
    "         'imd_decile_imd', 'hmo']].rename(columns={'imd_decile_imd': 'imd_decile'})\n",
    "df.to_csv(\"../data/interim/features.csv\", index=False)"
   ]
  }
 ],
 "metadata": {
  "kernelspec": {
   "display_name": "Python [conda env:.conda-hmo_identifier]",
   "language": "python",
   "name": "conda-env-.conda-hmo_identifier-py"
  },
  "language_info": {
   "codemirror_mode": {
    "name": "ipython",
    "version": 3
   },
   "file_extension": ".py",
   "mimetype": "text/x-python",
   "name": "python",
   "nbconvert_exporter": "python",
   "pygments_lexer": "ipython3",
   "version": "3.7.6"
  }
 },
 "nbformat": 4,
 "nbformat_minor": 4
}
